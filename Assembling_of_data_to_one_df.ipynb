{
 "cells": [
  {
   "cell_type": "code",
   "execution_count": 4,
   "id": "1d9fc3e5-fc50-46bd-aef3-bf390fe94c5e",
   "metadata": {},
   "outputs": [
    {
     "name": "stderr",
     "output_type": "stream",
     "text": [
      "Loading required package: stats4\n",
      "\n",
      "Loading required package: BiocGenerics\n",
      "\n",
      "\n",
      "Attaching package: ‘BiocGenerics’\n",
      "\n",
      "\n",
      "The following objects are masked from ‘package:stats’:\n",
      "\n",
      "    IQR, mad, sd, var, xtabs\n",
      "\n",
      "\n",
      "The following objects are masked from ‘package:base’:\n",
      "\n",
      "    anyDuplicated, aperm, append, as.data.frame, basename, cbind,\n",
      "    colnames, dirname, do.call, duplicated, eval, evalq, Filter, Find,\n",
      "    get, grep, grepl, intersect, is.unsorted, lapply, Map, mapply,\n",
      "    match, mget, order, paste, pmax, pmax.int, pmin, pmin.int,\n",
      "    Position, rank, rbind, Reduce, rownames, sapply, setdiff, sort,\n",
      "    table, tapply, union, unique, unsplit, which.max, which.min\n",
      "\n",
      "\n",
      "Loading required package: Biobase\n",
      "\n",
      "Welcome to Bioconductor\n",
      "\n",
      "    Vignettes contain introductory material; view with\n",
      "    'browseVignettes()'. To cite Bioconductor, see\n",
      "    'citation(\"Biobase\")', and for packages 'citation(\"pkgname\")'.\n",
      "\n",
      "\n",
      "Loading required package: IRanges\n",
      "\n",
      "Loading required package: S4Vectors\n",
      "\n",
      "\n",
      "Attaching package: ‘S4Vectors’\n",
      "\n",
      "\n",
      "The following object is masked from ‘package:utils’:\n",
      "\n",
      "    findMatches\n",
      "\n",
      "\n",
      "The following objects are masked from ‘package:base’:\n",
      "\n",
      "    expand.grid, I, unname\n",
      "\n",
      "\n",
      "\n",
      "\n",
      "Loading required package: GenomicFeatures\n",
      "\n",
      "Loading required package: GenomeInfoDb\n",
      "\n",
      "Loading required package: GenomicRanges\n",
      "\n",
      "\n",
      "\n",
      "\n",
      "hugene10stprobeset.db is based on exon probesets. For a more\n",
      "  gene-centric view, use the transcriptcluster version of this package.\n",
      "\n",
      "\n",
      "\n",
      "\n",
      "Setting options('download.file.method.GEOquery'='auto')\n",
      "\n",
      "Setting options('GEOquery.inmemory.gpl'=FALSE)\n",
      "\n"
     ]
    }
   ],
   "source": [
    "library(AnnotationDbi)\n",
    "library(org.Hs.eg.db)\n",
    "library(TxDb.Hsapiens.UCSC.hg38.knownGene)\n",
    "library(hugene10sttranscriptcluster.db) \n",
    "library(hugene10stprobeset.db)\n",
    "library(illuminaHumanv4.db)\n",
    "library(readxl)\n",
    "library(GEOquery)\n",
    "library(stringr)"
   ]
  },
  {
   "cell_type": "markdown",
   "id": "59e8d7a1-2791-42ce-a8cf-9fbb640af22d",
   "metadata": {},
   "source": [
    "## Далее единый код для всех исходных данных, необходимо не забывать менять название входного файла и выходного "
   ]
  },
  {
   "cell_type": "code",
   "execution_count": null,
   "id": "0f4c4d9f-7a78-4589-b983-a61339306ed6",
   "metadata": {},
   "outputs": [],
   "source": [
    "file_path <- \"data/raw_data/GSE16717_series_matrix.txt\"\n",
    "file_content <- readLines(file_path)"
   ]
  },
  {
   "cell_type": "code",
   "execution_count": null,
   "id": "c02d6a60-f7c8-4622-b5b7-bce322f2ea33",
   "metadata": {},
   "outputs": [],
   "source": [
    "file_content <- readLines(file_path)\n",
    "\n",
    "table_data <- list()\n",
    "start_index <- which(file_content == \"!series_matrix_table_begin\") + 1\n",
    "end_index <- which(file_content == \"!series_matrix_table_end\") - 1\n",
    "\n",
    "table_data <- list()\n",
    "\n",
    "for (i in start_index:end_index) {\n",
    "  parts <- strsplit(file_content[i], \"\\t\")[[1]]\n",
    "  if (i == start_index) {\n",
    "    col_names <- parts\n",
    "    col_names <- gsub('\"', '', col_names)\n",
    "  } else {\n",
    "    table_data <- c(table_data, list(parts))\n",
    "  }\n",
    "}"
   ]
  },
  {
   "cell_type": "code",
   "execution_count": null,
   "id": "4405b425-0bc1-4f34-a68d-15b0ab1d7352",
   "metadata": {},
   "outputs": [],
   "source": [
    "df <- as.data.frame(do.call(rbind, table_data))\n",
    "colnames(df) <- col_names\n",
    "head(df,2)"
   ]
  },
  {
   "cell_type": "markdown",
   "id": "43bdcfac-335e-4b7d-92ad-9402a9e1b6ad",
   "metadata": {},
   "source": [
    "### Аннотирование полученных данных, нужно делать, потому что в исходных файлах вместо названий генов, кодировки с платформы"
   ]
  },
  {
   "cell_type": "markdown",
   "id": "dde5dcf0-52cd-4a11-a30e-342dd8f6bfb9",
   "metadata": {},
   "source": [
    "#### Код для GSE16717, GSE67220"
   ]
  },
  {
   "cell_type": "code",
   "execution_count": null,
   "id": "93e9124c-5fe4-4734-afc4-33ceb8bd193a",
   "metadata": {},
   "outputs": [],
   "source": [
    "gene_ids <- unique(df$ID_REF)\n",
    "gene_symbols <- mapIds(org.Hs.eg.db, keys = gene_ids, column = \"SYMBOL\", keytype = \"ENTREZID\")\n",
    "df$ID_REF <- gene_symbols[df$ID_REF]\n",
    "head(df$ID_REF, 10)"
   ]
  },
  {
   "cell_type": "markdown",
   "id": "5c4079e8-11cb-48c4-813a-0d770c49c4a1",
   "metadata": {},
   "source": [
    "#### Код для GSE56033"
   ]
  },
  {
   "cell_type": "code",
   "execution_count": null,
   "id": "d4af8a98-e442-42dc-a4de-a49025b488c9",
   "metadata": {},
   "outputs": [],
   "source": [
    "df <- as.data.frame(do.call(rbind, table_data))\n",
    "colnames(df) <- col_names\n",
    "multi_mapping <- which(lengths(symbol_list) > 1)\n",
    "df <- df[-multi_mapping, ]\n",
    "symbol_list <- select(hugene10sttranscriptcluster.db, keys = df$ID_REF, columns = c(\"SYMBOL\"), keytype = \"PROBEID\", mult='first')\n",
    "anyDuplicated(df$ID_REF)\n",
    "anyDuplicated(symbol_list)\n",
    "symbol_list_cleaned <- na.omit(symbol_list)\n",
    "symbol_list_cleaned_unique <- symbol_list_cleaned[!duplicated(symbol_list_cleaned$PROBEID),]\n",
    "merged_df <- merge(df, symbol_list_cleaned_unique, by.x = \"ID_REF\", by.y = \"PROBEID\", all.x = TRUE)\n",
    "df$ID_REF <- ifelse(!is.na(merged_df$SYMBOL), merged_df$SYMBOL, df$ID_REF)"
   ]
  },
  {
   "cell_type": "markdown",
   "id": "366542ec-f01a-4444-be0a-42a5c54a8585",
   "metadata": {},
   "source": [
    "#### код для GSE56047, GSE65907"
   ]
  },
  {
   "cell_type": "code",
   "execution_count": null,
   "id": "73323c88-8794-4793-8e63-24c6d7fad7de",
   "metadata": {},
   "outputs": [],
   "source": [
    "# только для GSE65907 \n",
    "df <- df[-1, ]"
   ]
  },
  {
   "cell_type": "code",
   "execution_count": null,
   "id": "740ba55e-09bb-403c-b7a0-4d729f3cc59a",
   "metadata": {},
   "outputs": [],
   "source": [
    "df_copy <- df\n",
    "df_copy$Gene <- mapIds(illuminaHumanv4.db, \n",
    "                        keys = df_copy$ID_REF,  \n",
    "                        column = \"SYMBOL\",\n",
    "                        keytype = \"PROBEID\")\n",
    "head(df_copy)"
   ]
  },
  {
   "cell_type": "code",
   "execution_count": null,
   "id": "5bf9a370-0619-4456-a813-6e3a9727fd0f",
   "metadata": {},
   "outputs": [],
   "source": [
    "df_copy$ID_REF <- df_copy$Gene\n",
    "df_copy <- subset(df_copy, select = -Gene)\n",
    "head(df_copy)"
   ]
  },
  {
   "cell_type": "markdown",
   "id": "29cbc68d-669e-4961-9d35-65aff42f2b76",
   "metadata": {},
   "source": [
    "Далее вместо звездочек надо указать номера GSE файла с которым проводилась работа"
   ]
  },
  {
   "cell_type": "code",
   "execution_count": null,
   "id": "511624f1-0f65-458e-a891-bc8cdd242499",
   "metadata": {},
   "outputs": [],
   "source": [
    "write.csv(data, file = \"data/raw_data/GSE****.csv\", row.names = TRUE)"
   ]
  },
  {
   "cell_type": "markdown",
   "id": "2f0a3dda-e336-43d7-bb75-576705675c3f",
   "metadata": {},
   "source": [
    "## Объединение всех df, которые были анатированы в данном протоколе, а также были аннотированы ранее"
   ]
  },
  {
   "cell_type": "code",
   "execution_count": null,
   "id": "f1b88968-7e29-4567-ad67-e4ec12a45ea1",
   "metadata": {},
   "outputs": [],
   "source": [
    "#Перед выполнением следующей части для некоторый df стоит их почистить от лищних символов в названиях или значениях экспрессии\n",
    "#например следующим образом \n",
    "#colnames(data) <- sub(\"\\\\.x$\", \"\", colnames(data))"
   ]
  },
  {
   "cell_type": "code",
   "execution_count": null,
   "id": "c3195cd2-0b76-46db-a76c-dec5df968293",
   "metadata": {},
   "outputs": [],
   "source": [
    "df1 <- read.csv(\"data/raw_data/annotated_data.csv\", header = TRUE)\n",
    "df2 <- read.csv(\"data/raw_data/GSE16717.csv\", header = TRUE)\n",
    "df3 <- read.csv(\"data/raw_data/GSE56033.csv\", header = TRUE)\n",
    "df4 <- read.csv(\"data/raw_data/GSE65907.csv\", header = TRUE)\n",
    "df5 <- read.csv(\"data/raw_data/GSE67220.csv\", header = TRUE)\n",
    "df6 <- read.csv(\"data/raw_data/biohack/geneMatTable_GSE30483.csv\", header = TRUE)\n",
    "df7 <- read.csv(\"data/raw_data/biohack/geneMatTable_GSE47353.csv\", header = TRUE)\n",
    "df8 <- read.csv(\"data/raw_data/biohack/geneMatTable_GSE68759.csv\", header = TRUE)\n",
    "df9 <- read.csv(\"data/raw_data/biohack/geneMatTable_GSE75511.csv\", header = TRUE)\n",
    "\n",
    "df1$ID_REF <- as.character(df1$ID_REF)\n",
    "df2$ID_REF <- as.character(df2$ID_REF)\n",
    "df3$ID_REF <- as.character(df3$ID_REF)\n",
    "df4$ID_REF <- as.character(df4$ID_REF)\n",
    "df5$ID_REF <- as.character(df5$ID_REF)\n",
    "df6$ID_REF <- as.character(df6$ID_REF)\n",
    "df7$ID_REF <- as.character(df7$ID_REF)\n",
    "df8$ID_REF <- as.character(df8$ID_REF)\n",
    "df9$ID_REF <- as.character(df9$ID_REF)\n",
    "\n",
    "common_values <- Reduce(intersect, list(df1$ID_REF, df2$ID_REF, df3$ID_REF, \n",
    "                                        df4$ID_REF, df5$ID_REF, df6$ID_REF, \n",
    "                                        df7$ID_REF, df8$ID_REF, df9$ID_REF))\n",
    "\n",
    "filtered_df1 <- df1[df1$ID_REF %in% common_values, ]\n",
    "filtered_df2 <- df2[df2$ID_REF %in% common_values, ]\n",
    "filtered_df3 <- df3[df3$ID_REF %in% common_values, ]\n",
    "filtered_df4 <- df4[df4$ID_REF %in% common_values, ]\n",
    "filtered_df5 <- df5[df5$ID_REF %in% common_values, ]\n",
    "filtered_df6 <- df6[df6$ID_REF %in% common_values, ]\n",
    "filtered_df7 <- df7[df7$ID_REF %in% common_values, ]\n",
    "filtered_df8 <- df8[df8$ID_REF %in% common_values, ]\n",
    "filtered_df9 <- df9[df9$ID_REF %in% common_values, ]\n",
    "\n",
    "\n",
    "all_filtered_data <- list(filtered_df1, filtered_df2, filtered_df3, \n",
    "                          filtered_df4, filtered_df5, filtered_df6, \n",
    "                          filtered_df7, filtered_df8, filtered_df9)\n",
    "\n",
    "merged_data <- Reduce(function(x, y) merge(x, y, by = \"ID_REF\", all = TRUE), all_filtered_data)\n",
    "merged_data <- merged_data[!duplicated(merged_data$ID_REF), ]\n",
    "                      \n",
    "merged_data_hackaton_IB_GB <- merged_data[!duplicated(merged_data$ID_REF), ]\n",
    "write.csv(data, file = \"data/for_analysis/merged_data_hackaton_IB_GB_correct.csv\", row.names = TRUE)"
   ]
  },
  {
   "cell_type": "markdown",
   "id": "5c282000-ab04-469a-aa03-33621f674967",
   "metadata": {},
   "source": [
    "## Получение meta даблица, содержащей следующие колонки GSE, GSM, age, sex "
   ]
  },
  {
   "cell_type": "markdown",
   "id": "3c38e7a5-bce8-41c4-b82c-d5d6636c4197",
   "metadata": {},
   "source": [
    "### Можно использовать разные подходы для разных датасетов, т.к. не всегда подходит один метод"
   ]
  },
  {
   "cell_type": "markdown",
   "id": "e84f6fe9-7188-4c27-803f-3f2fd00543a7",
   "metadata": {},
   "source": [
    "##### Для GSE16717"
   ]
  },
  {
   "cell_type": "code",
   "execution_count": null,
   "id": "bdb9b560-c5d5-484b-985b-1f4bad9731fc",
   "metadata": {},
   "outputs": [],
   "source": [
    "library(GEOquery)\n",
    "\n",
    "gse <- getGEO(\"GSE16717\", GSEMatrix = TRUE)\n",
    "metadata <- pData(gse[[1]])\n",
    "ages <- as.numeric(sub(\"\\\\..*\", \"\", metadata$age))\n",
    "ages <- as.numeric(gsub(\"[^0-9.]\", \"\", metadata$age))\n",
    "ages <- as.integer(ages)\n",
    "GSM <- rep(rownames(metadata))\n",
    "GSE <- paste(\"GSE16717\" )\n",
    "ages <- as.numeric(ages)\n",
    "sex <- rep(NA, length(ages))\n",
    "df <- data.frame(GSE = GSE, GSM = GSM, age = ages, sex = sex)\n",
    "head (df1, 3)\n",
    "write.csv(df, file = \"data/raw_data/GSE16717_annotation.csv\", row.names = FALSE)"
   ]
  },
  {
   "cell_type": "markdown",
   "id": "a5400d56-91dc-4a7d-9065-f43959f14c22",
   "metadata": {},
   "source": [
    "##### Для GSE67220"
   ]
  },
  {
   "cell_type": "code",
   "execution_count": null,
   "id": "c364ab10-d627-43e4-a526-7947b414f58b",
   "metadata": {},
   "outputs": [],
   "source": [
    "file_path <- \"data/raw_data/GSE67220_series_matrix.txt\" \n",
    "\n",
    "file_content <- readLines(file_path)\n",
    "ages <- c()\n",
    "\n",
    "for (line in file_content) {\n",
    "  if (startsWith(line, \"!Sample_title\")) {\n",
    "    parts <- strsplit(line, \"\\t\")[[1]]\n",
    "    for (part in parts[-1]) {\n",
    "      age <- as.numeric(gsub(\"[^0-9]\", \"\", part))\n",
    "      ages <- c(ages, age)\n",
    "    }\n",
    "  }\n",
    "}\n",
    "GSM_numbers <- c()\n",
    "for (line in file_content) {\n",
    "  if (startsWith(line, \"!Sample_geo_accession\")) {\n",
    "    parts <- strsplit(line, \"\\t\")[[1]]\n",
    "    for (part in parts[-1]) {\n",
    "      GSM_numbers <- c(GSM_numbers, part)\n",
    "    }\n",
    "  }\n",
    "}\n",
    "GSM <- rep(GSM_numbers)\n",
    "GSE <- paste(\"GSE67220\")\n",
    "ages <- as.numeric(ages)\n",
    "sex <- rep(NA, length(ages))\n",
    "\n",
    "df <- data.frame(GSE = GSE, GSM = GSM, age = ages, sex = sex)\n",
    "write.csv(df, file = \"data/raw_data/GSE67220_annotation.csv\", row.names = FALSE)"
   ]
  },
  {
   "cell_type": "markdown",
   "id": "42715a5b-ac87-4445-8f94-39b6add53558",
   "metadata": {},
   "source": [
    "##### Для GSE56033"
   ]
  },
  {
   "cell_type": "code",
   "execution_count": null,
   "id": "c0630f4b-4863-4d7e-ac35-b9c60e7005f1",
   "metadata": {},
   "outputs": [],
   "source": [
    "file_path <- \"data/raw_data/GSE56033_series_matrix.txt\"\n",
    "file_content <- readLines(file_path)\n",
    "file_content <- paste(file_content, collapse = \" \")\n",
    "\n",
    "age_list <- regmatches(file_content, gregexpr(\"\\\\b(age \\\\(yrs\\\\)|age): \\\\d+\\\\b\", file_content))[[1]]\n",
    "age_list <- regmatches(file_content, gregexpr(\"\\\\b(\\\\d+): \\\\d+\\\\b\", file_content))[[1]]\n",
    "age_list <- c(age_list, age_list)\n",
    "\n",
    "#age_list <- as.integer(gsub(\"\\\\D\", \"\", age_list))\n",
    "#print(length(age_list5))\n",
    "gender_list <- regmatches(file_content, gregexpr(\"\\\\b(gender: (male|female))\\\\b\", file_content))[[1]]\n",
    "gender_list <- regmatches(file_content, gregexpr(\"\\\\b(Sex: (Male|Female))\\\\b\", file_content))[[1]]\n",
    "\n",
    "gender_list <- c(gender_list, gender_list)\n",
    "gender_list <- gsub(\"(gender|Sex): \", \"\", gender_list)\n",
    "\n",
    "gsm_list <- regmatches(file_content, gregexpr(\"\\\\b(GSM\\\\d+)\\\\b\", file_content))[[1]]\n",
    "\n",
    "\n",
    "GSE <- rep(\"GSE56033\", length(gsm_list))\n",
    "GSM <- rep(gsm_list)\n",
    "sex <- rep(gender_list5)\n",
    "ages <- as.numeric(age_list5)\n",
    "\n",
    "GSM <- unique(GSM)\n",
    "df <- data.frame(GSE = GSE, GSM = GSM, age = ages, sex = sex)\n",
    "\n",
    "write.csv(df, file = \"data/raw_data/GSE56033_annotation.csv\", row.names = FALSE)"
   ]
  },
  {
   "cell_type": "code",
   "execution_count": null,
   "id": "8c8975be-4599-4e3a-93fe-201993fd0b0d",
   "metadata": {},
   "outputs": [],
   "source": [
    "###### GSE56047"
   ]
  },
  {
   "cell_type": "code",
   "execution_count": null,
   "id": "0d93bb0d-975a-44c3-861c-49c7f6edc598",
   "metadata": {},
   "outputs": [],
   "source": [
    "file_path <- \"data/raw_data/GSE56047-GPL10558_series_matrix.txt\"\n",
    "\n",
    "GSM_numbers <- character(0) \n",
    "con <- file(file_path, \"r\") \n",
    "while (TRUE) {\n",
    "  line <- readLines(con, n = 1) \n",
    "  if (length(line) == 0) break  \n",
    "  if (startsWith(line, \"!Sample_geo_accession\")) {\n",
    "    parts <- strsplit(line, \"\\t\")[[1]]\n",
    "    for (part in parts[-1]) {\n",
    "      GSM_numbers <- c(GSM_numbers, gsub(\"\\\"\", \"\", part))\n",
    "    }\n",
    "  }\n",
    "}\n",
    "close(con)\n",
    "\n",
    "GSM_nmber <- unique(GSM_numbers)\n",
    "length (GSM_nmber)\n",
    "GSE <- rep(\"GSE56047\", length(ages))\n",
    "GSM <- rep(GSM_numbers)\n",
    "sex <- rep(NA, length(ages))\n",
    "ages <- as.numeric(unlist(ages))\n",
    "df <- data.frame(GSE = GSE, GSM = GSM, age = ages, sex = sex)\n",
    "head(dfGSE56047, 3)\n",
    "dim(dfGSE56047)\n",
    "write.csv(df, file = \"data/raw_data/GSE56047_annotation.csv\", row.names = FALSE)"
   ]
  },
  {
   "cell_type": "markdown",
   "id": "26fa8fdf-1596-4988-bc3a-fd569f2a59f1",
   "metadata": {},
   "source": [
    "### Собираем все вместе "
   ]
  },
  {
   "cell_type": "code",
   "execution_count": null,
   "id": "d9b23e05-1987-4f28-8ef9-9ee3ce0b377f",
   "metadata": {},
   "outputs": [],
   "source": [
    "data_GSE30483 <- read.csv(\"biohack/ages_df_GSE30483.csv\", header = TRUE)\n",
    "data_GSE47353 <- read.csv(\"biohack/ages_df_GSE47353.csv\", header = TRUE)\n",
    "data_GSE68759 <- read.csv(\"biohack/ages_df_GSE68759.csv\", header = TRUE)\n",
    "data_GSE75511 <- read.csv(\"biohack/ages_df_GSE75511.csv\", header = TRUE)\n",
    "data_GSE16717 <- read.csv(\"biohack/ages_df_GSE75511.csv\", header = TRUE)\n",
    "data <- read.csv(\"data/raw_data/annotated_data.csv\", header = TRUE) \n",
    "data_GSE56047 <- read.csv(\"data/raw_data/GSE56047_annotation.csv\". header = TRUE)\n",
    "data_GSE56033 <- read.csv(\"data/raw_data/GSE56033_annotation.csv\". header = TRUE)\n",
    "data_GSE67220 <- read.csv(\"data/raw_data/GSE67220_annotation.csv\". header = TRUE)\n",
    "data_GSE16717 <- read.csv(\"data/raw_data/GSE16717_annotation.csv\". header = TRUE)"
   ]
  },
  {
   "cell_type": "markdown",
   "id": "6aa2d229-1bf3-4d4b-96a1-536beab58a78",
   "metadata": {},
   "source": [
    "Во всех данных необзодимо перевести названия всех столбцов в единый форма по следюущему приницу. Не забудьте поменять номе GSE "
   ]
  },
  {
   "cell_type": "code",
   "execution_count": null,
   "id": "97e51388-37da-4bb2-8dc1-b7c019c9b86e",
   "metadata": {},
   "outputs": [],
   "source": [
    "colnames(data_GSE30483)[colnames(data_GSE30483) == \"gsms\"] <- \"GSM\"\n",
    "colnames(data_GSE30483)[colnames(data_GSE30483) == \"ages\"] <- \"age\""
   ]
  },
  {
   "cell_type": "code",
   "execution_count": null,
   "id": "a92e5d84-db70-4e12-bb23-fa1058f8cbf6",
   "metadata": {},
   "outputs": [],
   "source": [
    "meta_data_correct <- rbind(data, data_GSE56047, data_GSE56033, data_GSE67220, data_GSE16717, data_GSE30483, data_GSE47353, data_GSE68759, data_GSE75511)\n",
    "meta_data_correct <- lapply(meta_data_correct, function(x) gsub('^\"|\"$', '', x))"
   ]
  },
  {
   "cell_type": "code",
   "execution_count": null,
   "id": "85ddf9c1-400a-4e1d-aaef-fe7c9d23899b",
   "metadata": {},
   "outputs": [],
   "source": [
    "write.csv(meta_data_correct, file = \"data/for_analysis/merged_data_annotation_full.csv\", row.names = FALSE)"
   ]
  },
  {
   "cell_type": "markdown",
   "id": "159ed549-6e35-48f9-b189-bc9eeaa16b4f",
   "metadata": {},
   "source": [
    "Т.к. в GSE 56033 небыло разделение по полу, то это разделение совершалось отдельно в Rscript под названием *genes_annotation.r*\n"
   ]
  },
  {
   "cell_type": "code",
   "execution_count": null,
   "id": "4d500aa0-f9a8-44ba-81d9-72522bd985a5",
   "metadata": {},
   "outputs": [],
   "source": []
  }
 ],
 "metadata": {
  "kernelspec": {
   "display_name": "R",
   "language": "R",
   "name": "ir"
  },
  "language_info": {
   "codemirror_mode": "r",
   "file_extension": ".r",
   "mimetype": "text/x-r-source",
   "name": "R",
   "pygments_lexer": "r",
   "version": "4.3.3"
  }
 },
 "nbformat": 4,
 "nbformat_minor": 5
}
